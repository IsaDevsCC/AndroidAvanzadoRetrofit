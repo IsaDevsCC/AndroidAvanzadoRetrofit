{
 "cells": [
  {
   "attachments": {},
   "cell_type": "markdown",
   "metadata": {},
   "source": [
    "# Stopwords\n",
    "\n",
    "\n",
    "--------------------\n"
   ]
  },
  {
   "attachments": {},
   "cell_type": "markdown",
   "metadata": {},
   "source": [
    "Para poder crear el `set` de stopwords, deberíamos hacer lo siguiente:\n",
    "\n",
    "1. Leer el contenido del fichero\n",
    "2. *Tokenizar* la cadena resultante en una lista de cadenas, cada una de las cuales debe de contener una de las palabras\n",
    "3. Normalizar la representación de dichas palabras\n",
    "4. Convertir la lista a un set."
   ]
  },
  {
   "attachments": {},
   "cell_type": "markdown",
   "metadata": {},
   "source": [
    "1. Crea el fichero `stopwords.py` \n",
    "2. En él, define la función `load_stopwords` que recibe una cadena con el nombre del fichero y devuelve un `Stopwords`\n",
    "3. Mueve los tipos que has definido en `histogram` a un nuevo fichero `custom_types.py` e impórtalos donde los necesites. No puedes usar el nombre `types.py` porque ese lo usa Python para algo parecido.\n",
    "4. Implementa la función `load_stopwords`\n",
    "   "
   ]
  }
 ],
 "metadata": {
  "language_info": {
   "name": "python"
  },
  "orig_nbformat": 4
 },
 "nbformat": 4,
 "nbformat_minor": 2
}
